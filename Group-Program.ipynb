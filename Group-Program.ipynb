{
 "cells": [
  {
   "cell_type": "code",
   "execution_count": 1,
   "metadata": {},
   "outputs": [
    {
     "name": "stdin",
     "output_type": "stream",
     "text": [
      "What is your name? john\n",
      "What is your age? 7\n"
     ]
    },
    {
     "name": "stdout",
     "output_type": "stream",
     "text": [
      "\n",
      "john, here's what you can do!\n",
      "\n",
      "You can drive in 9 years.\n",
      "You can buy lottery tickets in 11 years.\n",
      "You can smoke in 14 years.\n",
      "You can purchase and drink alcohol in 14 years.\n"
     ]
    }
   ],
   "source": [
    "from datetime import date\n",
    "\n",
    "name = input(\"What is your name?\") ##Get's user's name\n",
    "\n",
    "console = \"zero\"\n",
    "while type(console) == str : ##This loop will make sure the user enters an integer for their age\n",
    "    console = input(\"What is your age?\")\n",
    "    try :\n",
    "        console = int(console)\n",
    "    except :\n",
    "        print(\"Please enter a valid integer for your age.\")\n",
    "age = console ##sets the users age to the age variable\n",
    "\n",
    "##Check if the user can drive, buy loterry tickets, smoke, and drink\n",
    "\n",
    "print(\"\\n\" + name + \", here's what you can do!\\n\")\n",
    "if (age >= 16) :\n",
    "    print(\"You can drive!\")\n",
    "else :\n",
    "    print(\"You can drive in \" + str(16-age) + \" years.\")\n",
    "    \n",
    "if (age >= 18) :\n",
    "    print(\"You can buy lottery tickets!\")\n",
    "else :\n",
    "    print(\"You can buy lottery tickets in \" + str(18-age) + \" years.\")\n",
    "    \n",
    "if (age >= 21) :\n",
    "    print(\"You can smoke.\")\n",
    "    print(\"You can purchase and drink alcohol.\")\n",
    "else :\n",
    "    print(\"You can smoke in \" + str(21-age) + \" years.\")\n",
    "    print(\"You can purchase and drink alcohol in \" + str(21-age) + \" years.\")"
   ]
  },
  {
   "cell_type": "code",
   "execution_count": null,
   "metadata": {},
   "outputs": [],
   "source": []
  }
 ],
 "metadata": {
  "kernelspec": {
   "display_name": "Python 3",
   "language": "python",
   "name": "python3"
  },
  "language_info": {
   "codemirror_mode": {
    "name": "ipython",
    "version": 3
   },
   "file_extension": ".py",
   "mimetype": "text/x-python",
   "name": "python",
   "nbconvert_exporter": "python",
   "pygments_lexer": "ipython3",
   "version": "3.8.5"
  }
 },
 "nbformat": 4,
 "nbformat_minor": 5
}
